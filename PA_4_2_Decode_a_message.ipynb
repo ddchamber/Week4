{
  "cells": [
    {
      "cell_type": "raw",
      "metadata": {
        "vscode": {
          "languageId": "raw"
        }
      },
      "source": [
        "---\n",
        "title: \"PA 4.2 - Decode a Message\"\n",
        "author: Daniel Chamberlin\n",
        "format:\n",
        "  html:\n",
        "    theme: cerulean \n",
        "    toc: true\n",
        "    embed-resources: true\n",
        "---"
      ]
    },
    {
      "cell_type": "markdown",
      "metadata": {
        "id": "kPj76X_FP2uq"
      },
      "source": [
        "## Setup\n",
        "\n",
        "Run the code below to load the scrambled message:\n"
      ]
    },
    {
      "cell_type": "code",
      "execution_count": 41,
      "metadata": {
        "id": "YwkYMR2qP2ur"
      },
      "outputs": [],
      "source": [
        "import pandas as pd\n",
        "\n",
        "message = pd.read_csv(\"https://www.dropbox.com/s/lgpn3vmksk3ssdo/scrambled_message.txt?dl=1\")['Word']"
      ]
    },
    {
      "cell_type": "code",
      "execution_count": 2,
      "metadata": {
        "colab": {
          "base_uri": "https://localhost:8080/"
        },
        "id": "rqykaCOxF1Z9",
        "outputId": "78651d97-c46b-4c24-b5e9-f67ae6a0ea1c"
      },
      "outputs": [
        {
          "data": {
            "text/plain": [
              "0                    Koila!\n",
              "1                     In   \n",
              "2                     kiew,\n",
              "3                         a\n",
              "4                 humble   \n",
              "               ...         \n",
              "122                     you\n",
              "123                 mabugh.\n",
              "124              ughhh?call\n",
              "125        meugh.ughhhh!   \n",
              "126                      K.\n",
              "Name: Word, Length: 127, dtype: object"
            ]
          },
          "execution_count": 2,
          "metadata": {},
          "output_type": "execute_result"
        }
      ],
      "source": [
        "message"
      ]
    },
    {
      "cell_type": "markdown",
      "metadata": {
        "id": "cI8ZE3LAP2us"
      },
      "source": [
        "In this activity, a \"word\" refers to any set of characters with no white space, even though they are not truly an English word.  That is, even though many of elements of the scrambled message vector are nonsense, and some have punctuation, you can consider each element to be a \"word\".\n",
        "\n",
        "Beware!  The object named `message` is a **pandas Series** of strings.  If you want to use functions that expect a string, rather than a series, remember `.apply()` and `lambda` functions.\n",
        "\n"
      ]
    },
    {
      "cell_type": "markdown",
      "metadata": {
        "id": "dYISAD8uQLAy"
      },
      "source": [
        "\n",
        "## Warm-up exercises\n",
        "\n",
        "1. How many characters are in the scrambled message?\n",
        "2. How many of these characters are white space?\n",
        "3. How many words are in the scrambled message?\n",
        "4. Show all the punctuation marks in the scrambled message.\n",
        "5. Print out, in all capitals, the longest word in the scrambled message.\n",
        "6. Print out every piece of a word that starts with the letter \"m\" and ends with the letter \"z\" in the scrambled message."
      ]
    },
    {
      "cell_type": "code",
      "execution_count": 30,
      "metadata": {
        "id": "6vB1tbjiQNvE"
      },
      "outputs": [
        {
          "name": "stdout",
          "output_type": "stream",
          "text": [
            "1. 2544\n",
            "2. 1652\n",
            "3. 127\n",
            "4. ['!', ',', '?', '.', ';']\n",
            "5.                   K.\n",
            "6. []\n"
          ]
        }
      ],
      "source": [
        "import string\n",
        "#1\n",
        "total_characters = message.apply(len).sum()\n",
        "print(\"1.\",total_characters)\n",
        "\n",
        "#2\n",
        "def count_spaces(word):\n",
        "    return word.count(\" \")\n",
        "\n",
        "white_space = message.apply(count_spaces).sum()\n",
        "print(\"2.\", white_space)\n",
        "\n",
        "#3\n",
        "total_words = len(message)\n",
        "print(\"3.\", total_words)\n",
        "\n",
        "#4\n",
        "unique = []\n",
        "for word in message:\n",
        "    for char in word:\n",
        "        if char in string.punctuation and char not in unique:\n",
        "            unique.append(char)\n",
        "print(\"4.\", unique)\n",
        "\n",
        "#5\n",
        "for word in message:\n",
        "    longest_len = 0\n",
        "    longest_word = ''\n",
        "    if len(word) > longest_len:\n",
        "        longest_word = word\n",
        "print(\"5.\", longest_word)\n",
        "\n",
        "#6\n",
        "for word in message:\n",
        "    mz = []\n",
        "    if word[0] == 'm' and word[-1] == 'z':\n",
        "        mz.append(word)\n",
        "\n",
        "print(\"6.\",mz)\n"
      ]
    },
    {
      "cell_type": "markdown",
      "metadata": {
        "id": "l3iJnnCJQOh7"
      },
      "source": [
        "\n",
        "\n",
        "## Decode a message\n",
        "\n",
        "Complete the following steps to decode the message.  \n",
        "\n",
        "1. Remove any spaces before or after each word.\n",
        "2. Any time you see the word \"ugh\", with any number of h's, followed by a punctuation mark, delete this.\n",
        "3. No word should be longer than 16 characters. Drop all extra characters beyond 13 off the end of each word.\n",
        "4. Replace all instances of exactly 2 a's with exactly 2 e's.\n",
        "5. Replace all z's with t's.\n",
        "6. Every word that ends in b, change that to a y.  *Hint: look out for punctuation!*\n",
        "7. Every word that starts with k, change that to a v.  *Hint: look out for capitalization!*\n",
        "8. Use `.join()` to recombine all your words into a message.\n",
        "9. Find the movie this quote is from."
      ]
    },
    {
      "cell_type": "code",
      "execution_count": 63,
      "metadata": {
        "id": "RRfjUzxMQQ5j"
      },
      "outputs": [
        {
          "name": "stdout",
          "output_type": "stream",
          "text": [
            "Voila! In view, a humble veteran, cast vicariously as both victim villain by the vicissitudes fate. visage, veneer a vestige of the vox now vacant, However, this valorous visitation of a bygone vexation stands vivified, vowed vanquish these vermin, van guarding and the violently vicious violation of only verdict vengeance; a a votive not in vain, the value veracity such shall vindicate and the virtuous. Verily this vichyssoise veers verbose, so let me simply that its my good you you V.\n"
          ]
        }
      ],
      "source": [
        "#1 Remove all white spaces\n",
        "message_no_white = message.apply(lambda x: x.replace(\" \", \"\"))\n",
        "\n",
        "#2 Remove rows with \"ugh\"\n",
        "message_no_ugh = message_no_white[~message_no_white.str.contains(\"ugh\", case=False, na=False)]\n",
        "\n",
        "#3 Shorten words greater than 16\n",
        "message_shorten = message_no_ugh.apply(lambda x: x[:16] if len(x) > 16 else x)\n",
        "\n",
        "#4 Replace aa with ee\n",
        "message_a_to_e = message_shorten.apply(lambda x: x.replace(\"aa\", \"ee\"))\n",
        "\n",
        "#5 Replace z with t\n",
        "message_z_to_t = message_a_to_e.apply(lambda x: x.replace(\"z\", \"t\"))\n",
        "\n",
        "#6 Replace ending b to y\n",
        "message_b_to_y = message_z_to_t.apply(lambda x: x[:-1] + x[-1].replace(\"b\", \"y\") if x[-1] == \"b\" else x)\n",
        "\n",
        "#7 Replace starting k to v\n",
        "message_k_to_v = message_b_to_y.apply(lambda x: x[0].replace(\"k\", \"v\") + x[1:] if x[0] == \"k\" else x)\n",
        "message_K_to_V = message_k_to_v.apply(lambda x: x[0].replace(\"K\", \"V\") + x[1:] if x[0] == \"K\" else x)\n",
        "\n",
        "movie_quote = \" \".join(message_K_to_V)\n",
        "print(movie_quote)\n",
        "\n",
        "\n"
      ]
    }
  ],
  "metadata": {
    "colab": {
      "provenance": []
    },
    "kernelspec": {
      "display_name": "Python 3",
      "language": "python",
      "name": "python3"
    },
    "language_info": {
      "codemirror_mode": {
        "name": "ipython",
        "version": 3
      },
      "file_extension": ".py",
      "mimetype": "text/x-python",
      "name": "python",
      "nbconvert_exporter": "python",
      "pygments_lexer": "ipython3",
      "version": "3.10.1"
    }
  },
  "nbformat": 4,
  "nbformat_minor": 0
}
